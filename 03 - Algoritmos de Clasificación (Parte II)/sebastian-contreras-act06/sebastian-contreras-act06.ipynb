{
 "cells": [
  {
   "cell_type": "markdown",
   "metadata": {},
   "source": [
    "# Actividad 6 - Inferencia de Tópicos con EM\n",
    "\n",
    "* Para poder realizar esta actividad debes haber revisado la lectura correspondiente a la semana.\n",
    "* Crea una carpeta de trabajo y guarda todos los archivos correspondientes (notebook y csv).\n",
    "* Una vez terminada la actibidad, comprime la carpeta y sube el `.zip`"
   ]
  },
  {
   "cell_type": "markdown",
   "metadata": {},
   "source": [
    "## Descripción de Actividades\n",
    "* En esta sesión trabajaremos con una serie de base de datos sobre letras musicales de distintos artistas. Cada uno de los csv se encuentra en la carpeta dump .\n",
    "* Cada `csv` tiene el nombre del artista a analizar. Los archivos contienen el nombre del artista, el género musical del artista, el nombre de la canción y las letras.\n",
    "* En base a esta información, el objetivo del ejercicio es generar un modelo probabilístico que pueda identificar el género musical más probable dado la letra de una canción.\n",
    "* Para ello implementaremos un modelo conocido como Latent Dirichlet Allocation que hace uso de una variante del algoritmo EM para inferir clases latentes a partir de una matriz de documentos."
   ]
  },
  {
   "cell_type": "markdown",
   "metadata": {},
   "source": [
    "## Desafío 1: Preparar el ambiente de trabajo\n",
    "* Importe los módulos `numpy`, `pandas`, `matplotlib`, `seaborn`, `glob` y `os` siguiendo las buenas prácticas. Los últimos dos módulos permitirán realizar la importación de múltiples archivos dentro de la carpeta `dump`.\n",
    "* Para ello genere un objeto que guarde en una lista todos los archivos alojados en dump utilizando `glob.glob` y `os.getcwd()` para extraer las rutas absolutas. Posteriormente genere un objeto pd.DataFrame que contenga todos los csv.\n",
    "* Asegúrese de eliminar la columna `Unnamed: 0` que se genera por defecto."
   ]
  },
  {
   "cell_type": "code",
   "execution_count": 1,
   "metadata": {},
   "outputs": [],
   "source": [
    "import pandas as pd\n",
    "import numpy as np\n",
    "import matplotlib.pyplot as plt\n",
    "import glob, os\n",
    "import seaborn as sns\n",
    "from sklearn.model_selection import train_test_split\n",
    "import multiprocessing"
   ]
  },
  {
   "cell_type": "code",
   "execution_count": 2,
   "metadata": {},
   "outputs": [
    {
     "name": "stdout",
     "output_type": "stream",
     "text": [
      "anthrax_scrape.csv\t\t mf_doom_scrape.csv\r\n",
      "ariana_grande_scrape.csv\t michael_jackson_scrape.csv\r\n",
      "a_tribe_called_quest_scrape.csv  mobb_deep_scrape.csv\r\n",
      "backstreet_boys_scrape.csv\t modest_mouse_scrape.csv\r\n",
      "black_star_scrape.csv\t\t mos_def_scrape.csv\r\n",
      "bob_dylan_scrape.csv\t\t necrophagist_scrape.csv\r\n",
      "britney_spears_scrape.csv\t new_kids_on_the_block_scrape.csv\r\n",
      "bruce_springsteen_scrape.csv\t nickelback_scrape.csv\r\n",
      "cannibal_corpse_scrape.csv\t nicki_minaj_scrape.csv\r\n",
      "carly_rae_jepsen_scrape.csv\t nwa_scrape.csv\r\n",
      "christina_aguilera_scrape.csv\t oasis_scrape.csv\r\n",
      "deicide_scrape.csv\t\t opeth_scrape.csv\r\n",
      "de_la_soul_scrape.csv\t\t pharrell_williams_scrape.csv\r\n",
      "dr._dre_scrape.csv\t\t pink_floyd_scrape.csv\r\n",
      "dua_lipa_scrape.csv\t\t public_enemy_scrape.csv\r\n",
      "eminem_scrape.csv\t\t queen_scrape.csv\r\n",
      "faith_no_more_scrape.csv\t radiohead_scrape.csv\r\n",
      "five_scrape.csv\t\t\t raekwon_scrape.csv\r\n",
      "frank_ocean_scrape.csv\t\t rage_against_the_machine_scrape.csv\r\n",
      "george_michael_scrape.csv\t red_hot_chili_peppers_scrape.csv\r\n",
      "ghostface_killah_scrape.csv\t rush_scrape.csv\r\n",
      "gorgoroth_scrape.csv\t\t sam_smith_scrape.csv\r\n",
      "immortal_scrape.csv\t\t sia_scrape.csv\r\n",
      "incubus_scrape.csv\t\t slayer_scrape.csv\r\n",
      "iron_maiden_scrape.csv\t\t spice_girls_scrape.csv\r\n",
      "justin_timberlake_scrape.csv\t system_of_a_down_scrape.csv\r\n",
      "kanye_west_scrape.csv\t\t the_beatles_scrape.csv\r\n",
      "kendrick_lamar_scrape.csv\t the_clash_scrape.csv\r\n",
      "killer_mike_scrape.csv\t\t the_doors_scrape.csv\r\n",
      "kiss_scrape.csv\t\t\t the_smashing_pumpkins_scrape.csv\r\n",
      "led_zeppelin_scrape.csv\t\t the_smiths_scrape.csv\r\n",
      "lorde_scrape.csv\t\t the_weeknd_scrape.csv\r\n",
      "mayhem_scrape.csv\t\t tool_scrape.csv\r\n",
      "megadeth_scrape.csv\t\t usher_scrape.csv\r\n",
      "meshuggah_scrape.csv\t\t vital_remains_scrape.csv\r\n",
      "metallica_scrape.csv\t\t weezer_scrape.csv\r\n",
      "method_man_scrape.csv\r\n"
     ]
    }
   ],
   "source": [
    "!ls data/"
   ]
  },
  {
   "cell_type": "code",
   "execution_count": 3,
   "metadata": {},
   "outputs": [],
   "source": [
    "# generamos una lista con todos los csv existentes\n",
    "file_list = glob.glob(os.getcwd() + '/data/*.csv')\n",
    "# lista vacía\n",
    "\n",
    "append_csv = []\n",
    "# para cada csv\n",
    "for f in file_list:\n",
    "    # abrir en pandas y concatenar\n",
    "    append_csv.append(pd.read_csv(f, index_col=None, header=0).drop(columns='Unnamed: 0'))\n",
    "# concatenar la lista de dataframes\n",
    "\n",
    "df_lyrics = pd.concat(append_csv)\n",
    "df_lyrics.columns = ['Artist', 'Genre', 'Song', 'Lyrics']"
   ]
  },
  {
   "cell_type": "code",
   "execution_count": 4,
   "metadata": {},
   "outputs": [
    {
     "data": {
      "text/html": [
       "<div>\n",
       "<style scoped>\n",
       "    .dataframe tbody tr th:only-of-type {\n",
       "        vertical-align: middle;\n",
       "    }\n",
       "\n",
       "    .dataframe tbody tr th {\n",
       "        vertical-align: top;\n",
       "    }\n",
       "\n",
       "    .dataframe thead th {\n",
       "        text-align: right;\n",
       "    }\n",
       "</style>\n",
       "<table border=\"1\" class=\"dataframe\">\n",
       "  <thead>\n",
       "    <tr style=\"text-align: right;\">\n",
       "      <th></th>\n",
       "      <th>artist</th>\n",
       "      <th>Genre</th>\n",
       "      <th>Song</th>\n",
       "      <th>Lyrics</th>\n",
       "    </tr>\n",
       "  </thead>\n",
       "  <tbody>\n",
       "    <tr>\n",
       "      <th>0</th>\n",
       "      <td>Radiohead</td>\n",
       "      <td>rock</td>\n",
       "      <td>You</td>\n",
       "      <td>You are the sun and moon and stars, are you? \\...</td>\n",
       "    </tr>\n",
       "    <tr>\n",
       "      <th>1</th>\n",
       "      <td>Radiohead</td>\n",
       "      <td>rock</td>\n",
       "      <td>Creep</td>\n",
       "      <td>When you were here before \\n Couldn't look you...</td>\n",
       "    </tr>\n",
       "    <tr>\n",
       "      <th>2</th>\n",
       "      <td>Radiohead</td>\n",
       "      <td>rock</td>\n",
       "      <td>How Do You?</td>\n",
       "      <td>He's bitter and twisted \\n He knows what he wa...</td>\n",
       "    </tr>\n",
       "    <tr>\n",
       "      <th>3</th>\n",
       "      <td>Radiohead</td>\n",
       "      <td>rock</td>\n",
       "      <td>Stop Whispering</td>\n",
       "      <td>And the wise man say, \"I don't want to hear yo...</td>\n",
       "    </tr>\n",
       "    <tr>\n",
       "      <th>4</th>\n",
       "      <td>Radiohead</td>\n",
       "      <td>rock</td>\n",
       "      <td>Thinking About You</td>\n",
       "      <td>Been thinking about you \\n Your records are he...</td>\n",
       "    </tr>\n",
       "  </tbody>\n",
       "</table>\n",
       "</div>"
      ],
      "text/plain": [
       "      artist Genre                Song  \\\n",
       "0  Radiohead  rock                 You   \n",
       "1  Radiohead  rock               Creep   \n",
       "2  Radiohead  rock         How Do You?   \n",
       "3  Radiohead  rock     Stop Whispering   \n",
       "4  Radiohead  rock  Thinking About You   \n",
       "\n",
       "                                              Lyrics  \n",
       "0  You are the sun and moon and stars, are you? \\...  \n",
       "1  When you were here before \\n Couldn't look you...  \n",
       "2  He's bitter and twisted \\n He knows what he wa...  \n",
       "3  And the wise man say, \"I don't want to hear yo...  \n",
       "4  Been thinking about you \\n Your records are he...  "
      ]
     },
     "metadata": {},
     "output_type": "display_data"
    },
    {
     "data": {
      "text/plain": [
       "(10804, 4)"
      ]
     },
     "execution_count": 4,
     "metadata": {},
     "output_type": "execute_result"
    }
   ],
   "source": [
    "display(df_lyrics.head())\n",
    "df_lyrics.shape"
   ]
  },
  {
   "cell_type": "markdown",
   "metadata": {},
   "source": [
    "## Desafío 2: Matriz de ocurrencias\n",
    "\n",
    "* Importe la clase `CountVectorizer` dentro de los módulos `feature_extraction.text`  de la librería `sklearn`.\n",
    "* Aplique la clase para extraer las 5000 palabras más repetidas en toda la base de datos.\n",
    "* Con la clase inicializada, incorpore las letras con el método `fit_transform` y guarde los resultados en un nuevo objeto"
   ]
  },
  {
   "cell_type": "code",
   "execution_count": 5,
   "metadata": {},
   "outputs": [],
   "source": [
    "from sklearn.feature_extraction.text import CountVectorizer"
   ]
  },
  {
   "cell_type": "code",
   "execution_count": 6,
   "metadata": {},
   "outputs": [],
   "source": [
    "X = df_lyrics.copy()\n",
    "y = X.pop('Genre')\n",
    "n = .33\n",
    "seed = 250992"
   ]
  },
  {
   "cell_type": "code",
   "execution_count": 7,
   "metadata": {},
   "outputs": [],
   "source": [
    "X_hold_in, X_hold_out, y_hold_in, y_hold_out = train_test_split(X, y, test_size=n,\n",
    "                                                               random_state=seed)\n",
    "\n",
    "X_train, X_test, y_train, y_test = train_test_split(X_hold_in, y_hold_in, test_size=n,random_state=seed)\n",
    "\n",
    "hold_in_counter = CountVectorizer(stop_words='english', min_df=.10, max_features=5000)\n",
    "hold_in_transformed_features = hold_in_counter.fit_transform(X_hold_in['Lyrics'])\n",
    "\n",
    "hold_out_counter = CountVectorizer(stop_words='english', min_df=.1, max_features=5000)\n",
    "hold_out_transformed_features = hold_out_counter.fit_transform(X_hold_out['Lyrics'])\n",
    "\n",
    "train_counter = CountVectorizer(stop_words='english', min_df=.1, max_features=5000)\n",
    "train_transformed_feats = train_counter.fit_transform(X_train['Lyrics'])\n",
    "\n",
    "test_counter = CountVectorizer(stop_words='english', min_df=.1, max_features=5000)\n",
    "test_transformed_feats = test_counter.fit_transform(X_test['Lyrics'])"
   ]
  },
  {
   "cell_type": "markdown",
   "metadata": {},
   "source": [
    "## Desafío 3: Entrenamiento del Modelo\n",
    "* Importe `sklearn.decomposition.LatentDirichletAllocation` y `sklearn.model_selection.GridSearchCV` .\n",
    "* Genere una búsqueda de grilla con los siguientes hiperparámetros:\n",
    "    - `n_components: [5, 10, 15]` .\n",
    "    - `learning_decay: [0.7, 0.5]` .\n",
    "* Entrene la búsqueda de grilla con las letras en un formato `CountVectorizer` .\n",
    "* Reporte brevemente cuál es la mejor combinación de hiperparámetros."
   ]
  },
  {
   "cell_type": "code",
   "execution_count": 8,
   "metadata": {},
   "outputs": [],
   "source": [
    "from sklearn.decomposition import LatentDirichletAllocation\n",
    "from sklearn.model_selection import GridSearchCV\n",
    "from sklearn.metrics import classification_report"
   ]
  },
  {
   "cell_type": "code",
   "execution_count": 9,
   "metadata": {},
   "outputs": [
    {
     "name": "stderr",
     "output_type": "stream",
     "text": [
      "/home/sebastiancz/anaconda3/lib/python3.6/site-packages/sklearn/model_selection/_split.py:2053: FutureWarning: You should specify a value for 'cv' instead of relying on the default value. The default value will change from 3 to 5 in version 0.22.\n",
      "  warnings.warn(CV_WARNING, FutureWarning)\n"
     ]
    }
   ],
   "source": [
    "search_params = {'n_components': [5, 10, 15], 'learning_decay': [0.7, 0.5]}\n",
    "cv_lda_model = GridSearchCV(\n",
    "    LatentDirichletAllocation(learning_method='online'),\n",
    "    param_grid = search_params,\n",
    "    n_jobs=-1).fit(hold_in_transformed_features)"
   ]
  },
  {
   "cell_type": "markdown",
   "metadata": {},
   "source": [
    "### Perfil de perplejidad del modelo (\"entropía existente en el modelo\")"
   ]
  },
  {
   "cell_type": "code",
   "execution_count": 10,
   "metadata": {},
   "outputs": [],
   "source": [
    "# lista vacía para preservar perplejidad\n",
    "store_hold_in_perplexity = []\n",
    "# lista vacía para guardar combinación de hiperparametros\n",
    "store_combination = []\n",
    "\n",
    "for i in [5, 10, 15]:\n",
    "    for j in [0.5, 0.7]:\n",
    "        # instanciamos el objeto\n",
    "        tmp = LatentDirichletAllocation(n_components = i,\n",
    "                                       learning_decay = j,\n",
    "                                       learning_method = 'batch')\n",
    "        # generamos el fit en los feats transformados\n",
    "        tmp.fit(hold_in_transformed_features)\n",
    "        # adjuntamos perplejidad\n",
    "        store_hold_in_perplexity.append(tmp.perplexity(hold_in_transformed_features))\n",
    "        # adjuntamos mejor combinación de hiperparametros\n",
    "        store_combination.append(f\"K={i}, eta={j}\")"
   ]
  },
  {
   "cell_type": "code",
   "execution_count": 11,
   "metadata": {},
   "outputs": [
    {
     "data": {
      "image/png": "[encoded data removed]",
      "text/plain": [
       "<Figure size 432x288 with 1 Axes>"
      ]
     },
     "metadata": {
      "needs_background": "light"
     },
     "output_type": "display_data"
    }
   ],
   "source": [
    "plt.plot(store_hold_in_perplexity, '-o')\n",
    "plt.xticks(range(len(store_combination)), store_combination, rotation=45);\n",
    "sns.despine()"
   ]
  },
  {
   "cell_type": "code",
   "execution_count": 12,
   "metadata": {},
   "outputs": [
    {
     "data": {
      "text/plain": [
       "{'learning_decay': 0.5, 'n_components': 15}"
      ]
     },
     "execution_count": 12,
     "metadata": {},
     "output_type": "execute_result"
    }
   ],
   "source": [
    "cv_lda_model.best_params_"
   ]
  },
  {
   "cell_type": "code",
   "execution_count": 13,
   "metadata": {},
   "outputs": [],
   "source": [
    "best_lda = cv_lda_model.best_estimator_"
   ]
  },
  {
   "cell_type": "markdown",
   "metadata": {},
   "source": [
    "## Desafío 4 : Inferencia e Identificación de Tópicos\n",
    "* En base a la mejor combinación de hiperparámetros, entrene el modelo con la matriz de  atributos de las letras.\n",
    "* Para identificar de qué se trata cada tópico, necesitamos identificar las principales 15 palabras asociadas con éste. Puede implementar la siguiente línea de código para identificar las principales palabras en un tópic.\n",
    "* Comente a qué tópicos está asociada cada clase inferida."
   ]
  },
  {
   "cell_type": "markdown",
   "metadata": {},
   "source": [
    "### Extracción de principales palabras asociadas en tópico"
   ]
  },
  {
   "cell_type": "code",
   "execution_count": 14,
   "metadata": {},
   "outputs": [],
   "source": [
    "import helpers\n",
    "import minimal_helpers"
   ]
  },
  {
   "cell_type": "code",
   "execution_count": 15,
   "metadata": {
    "scrolled": true
   },
   "outputs": [
    {
     "name": "stdout",
     "output_type": "stream",
     "text": [
      "Tópico: 0\n",
      " shit\t\n",
      "fuck\t\n",
      "nigga\t\n",
      "got\t\n",
      "ain\t\n",
      "bitch\t\n",
      "don\t\n",
      "ass\t\n",
      "yo\t\n",
      "know\t\n",
      "real\t\n",
      "man\t\n",
      "like\t\n",
      "just\t\n",
      "hit\t\n",
      "yeah\t\n",
      "cause\t\n",
      "ll\t\n",
      "look\t\n",
      "let\n",
      "Tópico: 1\n",
      " got\t\n",
      "ve\t\n",
      "hey\t\n",
      "ain\t\n",
      "know\t\n",
      "play\t\n",
      "man\t\n",
      "said\t\n",
      "really\t\n",
      "eyes\t\n",
      "gotta\t\n",
      "just\t\n",
      "better\t\n",
      "time\t\n",
      "cause\t\n",
      "look\t\n",
      "bad\t\n",
      "say\t\n",
      "run\t\n",
      "till\n",
      "Tópico: 2\n",
      " life\t\n",
      "time\t\n",
      "world\t\n",
      "live\t\n",
      "things\t\n",
      "people\t\n",
      "leave\t\n",
      "believe\t\n",
      "mind\t\n",
      "new\t\n",
      "hard\t\n",
      "long\t\n",
      "ve\t\n",
      "try\t\n",
      "soul\t\n",
      "day\t\n",
      "die\t\n",
      "high\t\n",
      "know\t\n",
      "just\n",
      "Tópico: 3\n",
      " ll\t\n",
      "come\t\n",
      "away\t\n",
      "heart\t\n",
      "won\t\n",
      "just\t\n",
      "let\t\n",
      "time\t\n",
      "ve\t\n",
      "run\t\n",
      "stay\t\n",
      "know\t\n",
      "end\t\n",
      "say\t\n",
      "day\t\n",
      "cause\t\n",
      "don\t\n",
      "inside\t\n",
      "like\t\n",
      "till\n",
      "Tópico: 4\n",
      " don\t\n",
      "just\t\n",
      "know\t\n",
      "wanna\t\n",
      "say\t\n",
      "tell\t\n",
      "cause\t\n",
      "think\t\n",
      "gotta\t\n",
      "really\t\n",
      "let\t\n",
      "need\t\n",
      "ll\t\n",
      "thing\t\n",
      "boy\t\n",
      "won\t\n",
      "said\t\n",
      "things\t\n",
      "ain\t\n",
      "time\n",
      "Tópico: 5\n",
      " yeah\t\n",
      "baby\t\n",
      "let\t\n",
      "come\t\n",
      "long\t\n",
      "wanna\t\n",
      "said\t\n",
      "right\t\n",
      "won\t\n",
      "know\t\n",
      "tell\t\n",
      "inside\t\n",
      "girl\t\n",
      "time\t\n",
      "feel\t\n",
      "just\t\n",
      "cause\t\n",
      "like\t\n",
      "home\t\n",
      "way\n",
      "Tópico: 6\n",
      " said\t\n",
      "home\t\n",
      "eyes\t\n",
      "gone\t\n",
      "dead\t\n",
      "did\t\n",
      "head\t\n",
      "die\t\n",
      "face\t\n",
      "hear\t\n",
      "old\t\n",
      "black\t\n",
      "left\t\n",
      "inside\t\n",
      "look\t\n",
      "place\t\n",
      "long\t\n",
      "night\t\n",
      "away\t\n",
      "just\n",
      "Tópico: 7\n",
      " right\t\n",
      "ya\t\n",
      "stop\t\n",
      "gotta\t\n",
      "left\t\n",
      "till\t\n",
      "feel\t\n",
      "cause\t\n",
      "hit\t\n",
      "time\t\n",
      "got\t\n",
      "leave\t\n",
      "head\t\n",
      "mind\t\n",
      "night\t\n",
      "hard\t\n",
      "know\t\n",
      "let\t\n",
      "real\t\n",
      "don\n",
      "Tópico: 8\n",
      " oh\t\n",
      "girl\t\n",
      "know\t\n",
      "like\t\n",
      "tell\t\n",
      "said\t\n",
      "turn\t\n",
      "make\t\n",
      "just\t\n",
      "stay\t\n",
      "baby\t\n",
      "till\t\n",
      "time\t\n",
      "ve\t\n",
      "way\t\n",
      "night\t\n",
      "come\t\n",
      "really\t\n",
      "good\t\n",
      "need\n",
      "Tópico: 9\n",
      " make\t\n",
      "good\t\n",
      "better\t\n",
      "big\t\n",
      "time\t\n",
      "really\t\n",
      "feel\t\n",
      "home\t\n",
      "think\t\n",
      "place\t\n",
      "new\t\n",
      "come\t\n",
      "head\t\n",
      "night\t\n",
      "long\t\n",
      "let\t\n",
      "say\t\n",
      "leave\t\n",
      "face\t\n",
      "believe\n",
      "Tópico: 10\n",
      " love\t\n",
      "need\t\n",
      "heart\t\n",
      "baby\t\n",
      "hold\t\n",
      "girl\t\n",
      "cause\t\n",
      "thing\t\n",
      "let\t\n",
      "don\t\n",
      "ll\t\n",
      "just\t\n",
      "like\t\n",
      "time\t\n",
      "hand\t\n",
      "eyes\t\n",
      "day\t\n",
      "right\t\n",
      "ve\t\n",
      "got\n",
      "Tópico: 11\n",
      " ooh\t\n",
      "man\t\n",
      "god\t\n",
      "light\t\n",
      "hand\t\n",
      "hold\t\n",
      "end\t\n",
      "soul\t\n",
      "night\t\n",
      "eyes\t\n",
      "hard\t\n",
      "tell\t\n",
      "did\t\n",
      "heart\t\n",
      "mind\t\n",
      "life\t\n",
      "inside\t\n",
      "look\t\n",
      "things\t\n",
      "came\n",
      "Tópico: 12\n",
      " like\t\n",
      "got\t\n",
      "em\t\n",
      "yo\t\n",
      "cause\t\n",
      "money\t\n",
      "ain\t\n",
      "man\t\n",
      "just\t\n",
      "know\t\n",
      "black\t\n",
      "come\t\n",
      "high\t\n",
      "new\t\n",
      "let\t\n",
      "play\t\n",
      "make\t\n",
      "don\t\n",
      "hard\t\n",
      "time\n",
      "Tópico: 13\n",
      " want\t\n",
      "know\t\n",
      "feel\t\n",
      "way\t\n",
      "like\t\n",
      "look\t\n",
      "need\t\n",
      "just\t\n",
      "bad\t\n",
      "don\t\n",
      "real\t\n",
      "cause\t\n",
      "turn\t\n",
      "hear\t\n",
      "make\t\n",
      "time\t\n",
      "really\t\n",
      "say\t\n",
      "eyes\t\n",
      "thing\n",
      "Tópico: 14\n",
      " gonna\t\n",
      "little\t\n",
      "night\t\n",
      "day\t\n",
      "turn\t\n",
      "till\t\n",
      "just\t\n",
      "way\t\n",
      "people\t\n",
      "ain\t\n",
      "right\t\n",
      "cause\t\n",
      "good\t\n",
      "bad\t\n",
      "play\t\n",
      "stay\t\n",
      "away\t\n",
      "time\t\n",
      "hear\t\n",
      "gotta\n"
     ]
    }
   ],
   "source": [
    "helpers.identify_words_associated(best_lda, # insertamos el mejor modelo\n",
    "                                  hold_in_counter, # insertamos el contador de ocurrencias\n",
    "                                  20) # cantidad de palabras por tópico"
   ]
  },
  {
   "cell_type": "markdown",
   "metadata": {},
   "source": [
    "## Desafío 5: Identificación de probabilidades\n",
    "* En base a la información generada, es posible identificar cuales van a ser los géneros más probables de ocurrir para un artista.\n",
    "* Para ello necesitamos guardar la probabilidad de cada canción en nuestra base de datos original. Podemos implementar esto de la siguiente manera:\n",
    "* Genere una matriz de correlaciones entre la probabilidad de tópicos inferidos. Comente brevemente cuales son las principales asociaciones existentes.\n",
    "* Con esta nueva base de datos, identifique las probabilidades de pertenencia para un artista específico.\n",
    "* Grafique la distribución de las probabilidades para algún artista en específico."
   ]
  },
  {
   "cell_type": "markdown",
   "metadata": {},
   "source": [
    "### Extracción de probabilidades"
   ]
  },
  {
   "cell_type": "code",
   "execution_count": 16,
   "metadata": {},
   "outputs": [],
   "source": [
    "infer_df = helpers.identify_most_likely_topic(best_lda, #mejor modelo\n",
    "                                              hold_in_counter, # contador de ocurrencias\n",
    "                                              hold_in_transformed_features, # texto tokenizado\n",
    "                                              X_hold_in) #datos a insertar "
   ]
  },
  {
   "cell_type": "code",
   "execution_count": 17,
   "metadata": {},
   "outputs": [
    {
     "data": {
      "text/plain": [
       "<matplotlib.axes._subplots.AxesSubplot at 0x7f145f367a58>"
      ]
     },
     "execution_count": 17,
     "metadata": {},
     "output_type": "execute_result"
    },
    {
     "data": {
      "image/png": "[encoded data removed]",
      "text/plain": [
       "<Figure size 720x720 with 2 Axes>"
      ]
     },
     "metadata": {
      "needs_background": "light"
     },
     "output_type": "display_data"
    }
   ],
   "source": [
    "plt.figure(figsize=(10,10))\n",
    "sns.heatmap(infer_df.loc[:, 'Topic 1':'Topic 15'].corr(), cmap=\"YlGnBu\", linewidths=.5)"
   ]
  },
  {
   "cell_type": "code",
   "execution_count": 25,
   "metadata": {},
   "outputs": [
    {
     "data": {
      "text/plain": [
       "Topic 9     0.043062\n",
       "Topic 3     0.087961\n",
       "Topic 11    0.081264\n",
       "Topic 12    0.050202\n",
       "Topic 5     0.173191\n",
       "Topic 2     0.044551\n",
       "Topic 1     0.005781\n",
       "Topic 10    0.032899\n",
       "Topic 7     0.079629\n",
       "Topic 4     0.122438\n",
       "Topic 8     0.033354\n",
       "Topic 13    0.050264\n",
       "Topic 15    0.058798\n",
       "Topic 14    0.066871\n",
       "Topic 6     0.070056\n",
       "dtype: float64"
      ]
     },
     "execution_count": 25,
     "metadata": {},
     "output_type": "execute_result"
    },
    {
     "data": {
      "image/png": "[encoded data removed]",
      "text/plain": [
       "<Figure size 720x864 with 15 Axes>"
      ]
     },
     "metadata": {
      "needs_background": "light"
     },
     "output_type": "display_data"
    }
   ],
   "source": [
    "plt.figure(figsize=(10, 12))\n",
    "minimal_helpers.report_artist_topic(infer_df, 'Michael Jackson')"
   ]
  }
 ],
 "metadata": {
  "kernelspec": {
   "display_name": "Python 3",
   "language": "python",
   "name": "python3"
  },
  "language_info": {
   "codemirror_mode": {
    "name": "ipython",
    "version": 3
   },
   "file_extension": ".py",
   "mimetype": "text/x-python",
   "name": "python",
   "nbconvert_exporter": "python",
   "pygments_lexer": "ipython3",
   "version": "3.6.8"
  }
 },
 "nbformat": 4,
 "nbformat_minor": 2
}
