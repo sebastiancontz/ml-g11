{
 "cells": [
  {
   "cell_type": "markdown",
   "metadata": {},
   "source": [
    "## Algoritmos de Clasificación (Parte I)\n",
    "## Actividad 3: Clasificación con NaiveBayes\n",
    "### Sebastián Contreras Zambrano"
   ]
  },
  {
   "cell_type": "markdown",
   "metadata": {},
   "source": [
    "* Para poder realizar esta actividad debes haber revisado la lectura correspondiente a lasemana.\n",
    "* Crea una carpeta de trabajo y guarda todos los archivos correspondientes (notebook y csv).\n",
    "* Una vez terminada la actividad, comprime la carpeta y sube el .zip a la seccióncorrespondiente"
   ]
  },
  {
   "cell_type": "markdown",
   "metadata": {},
   "source": [
    "## Descripción de Actividades\n",
    "* En esta sesión trabajaremos con una serie de base de datos sobre letras musicales dedistintos artistas. \n",
    "* Cada uno de los csv se encuentra en la carpeta dump dentro del proyecto.\n",
    "* Cada csv tiene el nombre del artista a analizar. Los archivos contienen el nombre del artista,el género musical del artista, el nombre de la canción y las letras.\n",
    "* En base a esta información, se les pide un modelo generativo que pueda predecir el género de una canción a patir de la letra de una canción.\n",
    "* Existen 4 géneros que se registran en la base de datos, por lo que para esta actividadtrabajaremos con un Multinomial Naive Bayes."
   ]
  },
  {
   "cell_type": "markdown",
   "metadata": {},
   "source": [
    "## Ejercicio 1: Preparar el ambiente de trabajo\n",
    "* Importe los módulos numpy, pandas, matplotlib, seaborn, glob y os siguiendo lasbuenas prácticas. Los últimos dos módulos permitirán realizar la importación de múltiplesarchivos dentro de la carpeta dump.\n",
    "* Para ello genere un objeto que guarde en una lista todos los archivos alojados en dumputilizando glob.glob y os.getcwd() para extraer las rutas absolutas. Posteriormentegenere un objeto pd.DataFrame que contenga todos los csv.\n",
    "* Asegúrese de eliminar la columna `Unnamed: 0` que se genera por defecto"
   ]
  },
  {
   "cell_type": "code",
   "execution_count": 1,
   "metadata": {},
   "outputs": [
    {
     "name": "stdout",
     "output_type": "stream",
     "text": [
      "a_tribe_called_quest_scrape.csv\n",
      "anthrax_scrape.csv\n",
      "black_star_scrape.csv\n",
      "bob_dylan_scrape.csv\n",
      "britney_spears_scrape.csv\n",
      "bruce_springsteen_scrape.csv\n",
      "cannibal_corpse_scrape.csv\n",
      "carly_rae_jepsen_scrape.csv\n",
      "de_la_soul_scrape.csv\n",
      "deicide_scrape.csv\n",
      "dr._dre_scrape.csv\n",
      "dua_lipa_scrape.csv\n",
      "eminem_scrape.csv\n",
      "faith_no_more_scrape.csv\n",
      "ghostface_killah_scrape.csv\n",
      "gorgoroth_scrape.csv\n",
      "immortal_scrape.csv\n",
      "incubus_scrape.csv\n",
      "iron_maiden_scrape.csv\n",
      "kanye_west_scrape.csv\n",
      "kendrick_lamar_scrape.csv\n",
      "killer_mike_scrape.csv\n",
      "kiss_scrape.csv\n",
      "led_zeppelin_scrape.csv\n",
      "lorde_scrape.csv\n",
      "mayhem_scrape.csv\n",
      "megadeth_scrape.csv\n",
      "meshuggah_scrape.csv\n",
      "metallica_scrape.csv\n",
      "method_man_scrape.csv\n",
      "mf_doom_scrape.csv\n",
      "michael_jackson_scrape.csv\n",
      "mobb_deep_scrape.csv\n",
      "modest_mouse_scrape.csv\n",
      "mos_def_scrape.csv\n",
      "necrophagist_scrape.csv\n",
      "nickelback_scrape.csv\n",
      "nicki_minaj_scrape.csv\n",
      "nwa_scrape.csv\n",
      "oasis_scrape.csv\n",
      "opeth_scrape.csv\n",
      "pink_floyd_scrape.csv\n",
      "public_enemy_scrape.csv\n",
      "queen_scrape.csv\n",
      "radiohead_scrape.csv\n",
      "raekwon_scrape.csv\n",
      "rage_against_the_machine_scrape.csv\n",
      "red_hot_chili_peppers_scrape.csv\n",
      "rush_scrape.csv\n",
      "sam_smith_scrape.csv\n",
      "sia_scrape.csv\n",
      "slayer_scrape.csv\n",
      "spice_girls_scrape.csv\n",
      "system_of_a_down_scrape.csv\n",
      "the_beatles_scrape.csv\n",
      "the_clash_scrape.csv\n",
      "the_doors_scrape.csv\n",
      "the_smashing_pumpkins_scrape.csv\n",
      "the_smiths_scrape.csv\n",
      "tool_scrape.csv\n",
      "vital_remains_scrape.csv\n",
      "weezer_scrape.csv\n"
     ]
    }
   ],
   "source": [
    "!ls dump/"
   ]
  },
  {
   "cell_type": "code",
   "execution_count": 2,
   "metadata": {},
   "outputs": [],
   "source": [
    "import pandas as pd\n",
    "import numpy as np\n",
    "import matplotlib.pyplot as plt\n",
    "import glob, os\n",
    "import seaborn as sns\n",
    "from sklearn.metrics import *"
   ]
  },
  {
   "cell_type": "code",
   "execution_count": 3,
   "metadata": {},
   "outputs": [],
   "source": [
    "# generamos una lista con todos los csv existentes\n",
    "file_list = glob.glob(os.getcwd() + '/dump/*.csv')\n",
    "# lista vacía\n",
    "\n",
    "append_csv = []\n",
    "# para cada csv\n",
    "for f in file_list:\n",
    "    # abrir en pandas y concatenar\n",
    "    append_csv.append(pd.read_csv(f, index_col=None, header=0).drop(columns='Unnamed: 0'))\n",
    "# concatenar la lista de dataframes\n",
    "\n",
    "\n",
    "df_lyrics = pd.concat(append_csv)\n",
    "df_lyrics.columns = ['Artist', 'Genre', 'Song', 'Lyrics']"
   ]
  },
  {
   "cell_type": "code",
   "execution_count": 4,
   "metadata": {},
   "outputs": [
    {
     "data": {
      "text/html": [
       "<div>\n",
       "<style scoped>\n",
       "    .dataframe tbody tr th:only-of-type {\n",
       "        vertical-align: middle;\n",
       "    }\n",
       "\n",
       "    .dataframe tbody tr th {\n",
       "        vertical-align: top;\n",
       "    }\n",
       "\n",
       "    .dataframe thead th {\n",
       "        text-align: right;\n",
       "    }\n",
       "</style>\n",
       "<table border=\"1\" class=\"dataframe\">\n",
       "  <thead>\n",
       "    <tr style=\"text-align: right;\">\n",
       "      <th></th>\n",
       "      <th>Artist</th>\n",
       "      <th>Genre</th>\n",
       "      <th>Song</th>\n",
       "      <th>Lyrics</th>\n",
       "    </tr>\n",
       "  </thead>\n",
       "  <tbody>\n",
       "    <tr>\n",
       "      <td>0</td>\n",
       "      <td>Anthrax</td>\n",
       "      <td>metal</td>\n",
       "      <td>Deathrider</td>\n",
       "      <td>Riding hard, high in the saddle \\n Winged stee...</td>\n",
       "    </tr>\n",
       "    <tr>\n",
       "      <td>1</td>\n",
       "      <td>Anthrax</td>\n",
       "      <td>metal</td>\n",
       "      <td>Metal Thrashing Mad</td>\n",
       "      <td>Racing down the road \\n In a street machine of...</td>\n",
       "    </tr>\n",
       "    <tr>\n",
       "      <td>2</td>\n",
       "      <td>Anthrax</td>\n",
       "      <td>metal</td>\n",
       "      <td>I'm Eighteen</td>\n",
       "      <td>Lines form on my face and hands \\n Lines form ...</td>\n",
       "    </tr>\n",
       "    <tr>\n",
       "      <td>3</td>\n",
       "      <td>Anthrax</td>\n",
       "      <td>metal</td>\n",
       "      <td>Panic</td>\n",
       "      <td>Move it to the front \\n Reaching for the light...</td>\n",
       "    </tr>\n",
       "    <tr>\n",
       "      <td>4</td>\n",
       "      <td>Anthrax</td>\n",
       "      <td>metal</td>\n",
       "      <td>Subjugator</td>\n",
       "      <td>Out in the streets \\n We're fighting tonight \\...</td>\n",
       "    </tr>\n",
       "  </tbody>\n",
       "</table>\n",
       "</div>"
      ],
      "text/plain": [
       "    Artist  Genre                 Song  \\\n",
       "0  Anthrax  metal           Deathrider   \n",
       "1  Anthrax  metal  Metal Thrashing Mad   \n",
       "2  Anthrax  metal         I'm Eighteen   \n",
       "3  Anthrax  metal                Panic   \n",
       "4  Anthrax  metal           Subjugator   \n",
       "\n",
       "                                              Lyrics  \n",
       "0  Riding hard, high in the saddle \\n Winged stee...  \n",
       "1  Racing down the road \\n In a street machine of...  \n",
       "2  Lines form on my face and hands \\n Lines form ...  \n",
       "3  Move it to the front \\n Reaching for the light...  \n",
       "4  Out in the streets \\n We're fighting tonight \\...  "
      ]
     },
     "metadata": {},
     "output_type": "display_data"
    },
    {
     "data": {
      "text/plain": [
       "(9489, 4)"
      ]
     },
     "execution_count": 4,
     "metadata": {},
     "output_type": "execute_result"
    }
   ],
   "source": [
    "display(df_lyrics.head())\n",
    "df_lyrics.shape"
   ]
  },
  {
   "cell_type": "markdown",
   "metadata": {},
   "source": [
    "## Ejercicio 2: Descripción de los datos\n",
    "* Utilizando el objeto creado en el Ejercicio 1, genere dos gráficos de barras que resuman la siguiente información:\n",
    "    * La cantidad de canciones registradas por cada artista, ordenado de mayor a menor.\n",
    "    * La cantidad de canciones registradas en cada género, ordenados de mayor a menor.\n",
    "* Comente sobre las principales tendencias"
   ]
  },
  {
   "cell_type": "code",
   "execution_count": 5,
   "metadata": {},
   "outputs": [
    {
     "data": {
      "image/png": "[encoded data removed]",
      "text/plain": [
       "<Figure size 1440x1440 with 1 Axes>"
      ]
     },
     "metadata": {
      "needs_background": "light"
     },
     "output_type": "display_data"
    }
   ],
   "source": [
    "df_artist = pd.DataFrame(df_lyrics['Artist'].value_counts())\n",
    "plt.figure(figsize=(20,20))\n",
    "sns.set(style=\"darkgrid\")\n",
    "ax = sns.barplot(y=df_artist.index, x=df_artist['Artist'], data=df_artist)\n",
    "for p in ax.patches:\n",
    "    ax.annotate(\"%.0f\" % p.get_width(), (p.get_x() + p.get_width(), p.get_y() + 1.2),\n",
    "                xytext=(5, 10), textcoords='offset points')\n",
    "plt.tight_layout()\n",
    "plt.show()"
   ]
  },
  {
   "cell_type": "code",
   "execution_count": 6,
   "metadata": {},
   "outputs": [
    {
     "data": {
      "image/png": "[encoded data removed]",
      "text/plain": [
       "<Figure size 1440x720 with 1 Axes>"
      ]
     },
     "metadata": {},
     "output_type": "display_data"
    }
   ],
   "source": [
    "df_genre = pd.DataFrame(df_lyrics['Genre'].value_counts())\n",
    "plt.figure(figsize=(20,10))\n",
    "sns.set(style=\"darkgrid\")\n",
    "sns.barplot(x=df_genre.index, y=df_genre['Genre'], data=df_genre)\n",
    "plt.tight_layout()\n",
    "plt.show()"
   ]
  },
  {
   "cell_type": "markdown",
   "metadata": {},
   "source": [
    "## Ejercicio 3: Matriz de ocurrencias\n",
    "* Importe la clase `CountVectorizer` dentro de los módulos `feature_extraction.text` de la librería `sklearn`. Lea la documentación asociada a ésta. ¿Cuál es el objetivo de estaclase?\n",
    "* Aplique la clase para extraer las 100 palabras más repetidas en toda la base de datos.\n",
    "* Genere una función que replique el procedimiento para cada uno de los géneros.\n",
    "* Comente sobre las principales características de cada género en cuanto a sus palabras."
   ]
  },
  {
   "cell_type": "code",
   "execution_count": 7,
   "metadata": {},
   "outputs": [],
   "source": [
    "from sklearn.naive_bayes import MultinomialNB\n",
    "from sklearn.model_selection import train_test_split\n",
    "from sklearn.pipeline import Pipeline\n",
    "from sklearn.feature_extraction.text import CountVectorizer\n",
    "from sklearn.metrics import classification_report"
   ]
  },
  {
   "cell_type": "code",
   "execution_count": 8,
   "metadata": {},
   "outputs": [],
   "source": [
    "cv = CountVectorizer(stop_words='english')"
   ]
  },
  {
   "cell_type": "code",
   "execution_count": 9,
   "metadata": {},
   "outputs": [],
   "source": [
    "cv_fit = cv.fit_transform(df_lyrics['Lyrics'])"
   ]
  },
  {
   "cell_type": "markdown",
   "metadata": {},
   "source": [
    "#### Extraer tokens del corpus"
   ]
  },
  {
   "cell_type": "code",
   "execution_count": 10,
   "metadata": {},
   "outputs": [],
   "source": [
    "words = cv.get_feature_names()"
   ]
  },
  {
   "cell_type": "code",
   "execution_count": 11,
   "metadata": {},
   "outputs": [
    {
     "ename": "ValueError",
     "evalue": "array is too big; `arr.size * arr.dtype.itemsize` is larger than the maximum possible size.",
     "output_type": "error",
     "traceback": [
      "\u001b[1;31m---------------------------------------------------------------------------\u001b[0m",
      "\u001b[1;31mValueError\u001b[0m                                Traceback (most recent call last)",
      "\u001b[1;32m<ipython-input-11-b15d06b201c7>\u001b[0m in \u001b[0;36m<module>\u001b[1;34m\u001b[0m\n\u001b[1;32m----> 1\u001b[1;33m \u001b[0mword_freq\u001b[0m \u001b[1;33m=\u001b[0m \u001b[0mcv_fit\u001b[0m\u001b[1;33m.\u001b[0m\u001b[0mtoarray\u001b[0m\u001b[1;33m(\u001b[0m\u001b[1;33m)\u001b[0m\u001b[1;33m.\u001b[0m\u001b[0msum\u001b[0m\u001b[1;33m(\u001b[0m\u001b[0maxis\u001b[0m\u001b[1;33m=\u001b[0m\u001b[1;36m0\u001b[0m\u001b[1;33m)\u001b[0m\u001b[1;33m\u001b[0m\u001b[1;33m\u001b[0m\u001b[0m\n\u001b[0m",
      "\u001b[1;32mC:\\ProgramData\\Anaconda3\\lib\\site-packages\\scipy\\sparse\\compressed.py\u001b[0m in \u001b[0;36mtoarray\u001b[1;34m(self, order, out)\u001b[0m\n\u001b[0;32m   1022\u001b[0m         \u001b[1;32mif\u001b[0m \u001b[0mout\u001b[0m \u001b[1;32mis\u001b[0m \u001b[1;32mNone\u001b[0m \u001b[1;32mand\u001b[0m \u001b[0morder\u001b[0m \u001b[1;32mis\u001b[0m \u001b[1;32mNone\u001b[0m\u001b[1;33m:\u001b[0m\u001b[1;33m\u001b[0m\u001b[1;33m\u001b[0m\u001b[0m\n\u001b[0;32m   1023\u001b[0m             \u001b[0morder\u001b[0m \u001b[1;33m=\u001b[0m \u001b[0mself\u001b[0m\u001b[1;33m.\u001b[0m\u001b[0m_swap\u001b[0m\u001b[1;33m(\u001b[0m\u001b[1;34m'cf'\u001b[0m\u001b[1;33m)\u001b[0m\u001b[1;33m[\u001b[0m\u001b[1;36m0\u001b[0m\u001b[1;33m]\u001b[0m\u001b[1;33m\u001b[0m\u001b[1;33m\u001b[0m\u001b[0m\n\u001b[1;32m-> 1024\u001b[1;33m         \u001b[0mout\u001b[0m \u001b[1;33m=\u001b[0m \u001b[0mself\u001b[0m\u001b[1;33m.\u001b[0m\u001b[0m_process_toarray_args\u001b[0m\u001b[1;33m(\u001b[0m\u001b[0morder\u001b[0m\u001b[1;33m,\u001b[0m \u001b[0mout\u001b[0m\u001b[1;33m)\u001b[0m\u001b[1;33m\u001b[0m\u001b[1;33m\u001b[0m\u001b[0m\n\u001b[0m\u001b[0;32m   1025\u001b[0m         \u001b[1;32mif\u001b[0m \u001b[1;32mnot\u001b[0m \u001b[1;33m(\u001b[0m\u001b[0mout\u001b[0m\u001b[1;33m.\u001b[0m\u001b[0mflags\u001b[0m\u001b[1;33m.\u001b[0m\u001b[0mc_contiguous\u001b[0m \u001b[1;32mor\u001b[0m \u001b[0mout\u001b[0m\u001b[1;33m.\u001b[0m\u001b[0mflags\u001b[0m\u001b[1;33m.\u001b[0m\u001b[0mf_contiguous\u001b[0m\u001b[1;33m)\u001b[0m\u001b[1;33m:\u001b[0m\u001b[1;33m\u001b[0m\u001b[1;33m\u001b[0m\u001b[0m\n\u001b[0;32m   1026\u001b[0m             \u001b[1;32mraise\u001b[0m \u001b[0mValueError\u001b[0m\u001b[1;33m(\u001b[0m\u001b[1;34m'Output array must be C or F contiguous'\u001b[0m\u001b[1;33m)\u001b[0m\u001b[1;33m\u001b[0m\u001b[1;33m\u001b[0m\u001b[0m\n",
      "\u001b[1;32mC:\\ProgramData\\Anaconda3\\lib\\site-packages\\scipy\\sparse\\base.py\u001b[0m in \u001b[0;36m_process_toarray_args\u001b[1;34m(self, order, out)\u001b[0m\n\u001b[0;32m   1184\u001b[0m             \u001b[1;32mreturn\u001b[0m \u001b[0mout\u001b[0m\u001b[1;33m\u001b[0m\u001b[1;33m\u001b[0m\u001b[0m\n\u001b[0;32m   1185\u001b[0m         \u001b[1;32melse\u001b[0m\u001b[1;33m:\u001b[0m\u001b[1;33m\u001b[0m\u001b[1;33m\u001b[0m\u001b[0m\n\u001b[1;32m-> 1186\u001b[1;33m             \u001b[1;32mreturn\u001b[0m \u001b[0mnp\u001b[0m\u001b[1;33m.\u001b[0m\u001b[0mzeros\u001b[0m\u001b[1;33m(\u001b[0m\u001b[0mself\u001b[0m\u001b[1;33m.\u001b[0m\u001b[0mshape\u001b[0m\u001b[1;33m,\u001b[0m \u001b[0mdtype\u001b[0m\u001b[1;33m=\u001b[0m\u001b[0mself\u001b[0m\u001b[1;33m.\u001b[0m\u001b[0mdtype\u001b[0m\u001b[1;33m,\u001b[0m \u001b[0morder\u001b[0m\u001b[1;33m=\u001b[0m\u001b[0morder\u001b[0m\u001b[1;33m)\u001b[0m\u001b[1;33m\u001b[0m\u001b[1;33m\u001b[0m\u001b[0m\n\u001b[0m\u001b[0;32m   1187\u001b[0m \u001b[1;33m\u001b[0m\u001b[0m\n\u001b[0;32m   1188\u001b[0m \u001b[1;33m\u001b[0m\u001b[0m\n",
      "\u001b[1;31mValueError\u001b[0m: array is too big; `arr.size * arr.dtype.itemsize` is larger than the maximum possible size."
     ]
    }
   ],
   "source": [
    "word_freq = cv_fit.toarray().sum(axis=0)"
   ]
  },
  {
   "cell_type": "code",
   "execution_count": null,
   "metadata": {},
   "outputs": [],
   "source": [
    "words_df = pd.DataFrame({'words': words, 'freq': word_freq})"
   ]
  },
  {
   "cell_type": "code",
   "execution_count": null,
   "metadata": {},
   "outputs": [],
   "source": [
    "words_df.sort_values(by='freq', ascending=False).head(10)"
   ]
  },
  {
   "cell_type": "code",
   "execution_count": null,
   "metadata": {},
   "outputs": [],
   "source": [
    "def words_freq(dataframe, columna):\n",
    "    tmp_cv = CountVectorizer(stop_words='english')\n",
    "    tmp_cv_fit = tmp_cv.fit_transform(dataframe[columna])\n",
    "    tmp_words = tmp_cv.get_feature_names()\n",
    "    tmp_word_freq = tmp_cv_fit.toarray().sum(axis=0)\n",
    "    tmp_words_df = pd.DataFrame({'words': tmp_words, 'freq': tmp_word_freq})\n",
    "    tmp_words_df = tmp_words_df.sort_values(by='freq', ascending=False)\n",
    "    return tmp_words_df"
   ]
  },
  {
   "cell_type": "code",
   "execution_count": null,
   "metadata": {},
   "outputs": [],
   "source": [
    "plt.figure(figsize=(20,40))\n",
    "sns.set(style=\"darkgrid\")\n",
    "tmp_df = words_df.sort_values(by='freq', ascending=False).head(100)\n",
    "ax = sns.barplot(y=tmp_df['words'], x=tmp_df['freq'], data=words_df)\n",
    "for p in ax.patches:\n",
    "    ax.annotate(\"%.0f\" % p.get_width(), (p.get_x() + p.get_width(), p.get_y() + 1.2),\n",
    "                xytext=(5, 10), textcoords='offset points')\n",
    "plt.show()"
   ]
  },
  {
   "cell_type": "code",
   "execution_count": null,
   "metadata": {},
   "outputs": [],
   "source": [
    "plt.figure(figsize=(20,80))\n",
    "sns.set(style=\"darkgrid\")\n",
    "\n",
    "for index, genre in enumerate(df_lyrics['Genre'].unique()):\n",
    "    tmp_df_gen = words_freq(df_lyrics[df_lyrics['Genre']==genre], 'Lyrics')\n",
    "    plt.subplot(4,1, index+1)\n",
    "    \n",
    "    tmp_df_gen = tmp_df_gen.sort_values(by='freq', ascending=False).head(100)\n",
    "    ax = sns.barplot(y=tmp_df_gen['words'], x=tmp_df_gen['freq'], data=tmp_df_gen)\n",
    "    for p in ax.patches:\n",
    "        ax.annotate(\"%.0f\" % p.get_width(), (p.get_x() + p.get_width(), p.get_y() + 1.2),\n",
    "                    xytext=(5, 10), textcoords='offset points')\n",
    "    plt.title(genre)\n",
    "\n",
    "plt.show()"
   ]
  },
  {
   "cell_type": "markdown",
   "metadata": {},
   "source": [
    "## Ejercicio 4: Entrenamiento del Modelo\n",
    "* Importe `MultinomialNB`, `train_test_split`, `Pipeline`, `confusion_matrix` y `classification_report`.\n",
    "* Genere las muestras de entrenamiento y validación reservando un 40% para validación y declarando una semilla pseudoaleatoria.\n",
    "* Monte el modelo dentro de un `Pipeline`, donde el primer paso es implementar `CountVectorizer` y el segundo sea ejecutar el clasificador `MultinomialNB`.\n",
    "* A continuación se les presenta una lista de letras, ¿cuáles serían las predicciones correspondientes?\n",
    "* Genere una predicción implementando la muestra de validación y contraste las predicciones del modelo con las etiquetas verdaderas. Reporte las principales métricas"
   ]
  },
  {
   "cell_type": "code",
   "execution_count": 12,
   "metadata": {},
   "outputs": [],
   "source": [
    "X_train, X_test, y_train, y_test = train_test_split(df_lyrics['Lyrics'],\n",
    "                                                  df_lyrics['Genre'],\n",
    "                                                  test_size=.40,\n",
    "                                                  random_state=250992)\n",
    "text_classifier = Pipeline(\n",
    "    [\n",
    "        ('vectorizer', CountVectorizer(stop_words='english')),\n",
    "        ('classifier', MultinomialNB())\n",
    "    ]\n",
    ")\n",
    "\n",
    "text_classifier.fit(X_train, y_train)\n",
    "y_hat = text_classifier.predict(X_test)"
   ]
  },
  {
   "cell_type": "markdown",
   "metadata": {},
   "source": [
    "#### Algunas pruebas para ver cómo funciona el modelo"
   ]
  },
  {
   "cell_type": "code",
   "execution_count": 14,
   "metadata": {},
   "outputs": [],
   "source": [
    "text_to_predict = ['I got a place in the underworld', # Brody Dalle - Underworld\n",
    "                  'As veils of ignorance, hatred retains Storm of arrows through karma Seeking light through samsara', # Gorguts - Forgotten Arrows\n",
    "                  \"Bye bye Don't want to be a fool for you Just another player in your game for two You may hate me but it ain't no lie\", # N'SYNC - Bye Bye Bye\n",
    "                  'Move bitch, get out the way Get out the way bitch, get out the way Move bitch, get out the way Get out the way bitch, get out the way', # Ludacris - Move B*tch\n",
    "                  'Sexual violence doesnt start and end with rape It starts in our books and behind our school gates', # IDLES - Mother,\n",
    "                  \"Take it from the girl you claimed to love You gonna get some bad karma I'm the one who had to learn to \\\n",
    "                  build a heart made of armor From the girl who made you soup and tied your shoes when you were hurting\\\n",
    "                  You are not deserving, you are not deserving\" #Banks - Drowning\n",
    "                 ]"
   ]
  },
  {
   "cell_type": "code",
   "execution_count": 15,
   "metadata": {},
   "outputs": [
    {
     "data": {
      "text/plain": [
       "array(['rock', 'metal', 'rock', 'hiphop', 'metal', 'rock'], dtype='<U6')"
      ]
     },
     "execution_count": 15,
     "metadata": {},
     "output_type": "execute_result"
    }
   ],
   "source": [
    "text_classifier.predict(text_to_predict)"
   ]
  },
  {
   "cell_type": "code",
   "execution_count": 16,
   "metadata": {},
   "outputs": [],
   "source": [
    "canciones = ['Brody Dalle - Underworld', 'Gorguts - Forgotten Arrows', 'NSYNC - Bye Bye Bye', 'Ludacris - Move B*tch', 'IDLES - Mother', 'Banks - Drowning']"
   ]
  },
  {
   "cell_type": "code",
   "execution_count": 17,
   "metadata": {},
   "outputs": [],
   "source": [
    "jamiroquai = [\"\"\"She's just a cosmic girl\n",
    "            From another galaxy\n",
    "            My heart's at zero gravity\n",
    "            She's from a cosmic world\n",
    "            Putting me in ecstasy\n",
    "            Transmitting on my frequency\n",
    "            She's cosmic\"\"\"]"
   ]
  },
  {
   "cell_type": "code",
   "execution_count": 18,
   "metadata": {},
   "outputs": [
    {
     "data": {
      "text/plain": [
       "array(['rock'], dtype='<U6')"
      ]
     },
     "execution_count": 18,
     "metadata": {},
     "output_type": "execute_result"
    }
   ],
   "source": [
    "text_classifier.predict(jamiroquai)"
   ]
  },
  {
   "cell_type": "code",
   "execution_count": 19,
   "metadata": {},
   "outputs": [],
   "source": [
    "kendrick= [\"\"\"Say, say say\n",
    "            I come from murder one, brung late night melee\n",
    "            Say, say, say\n",
    "            We hung all summer, sprung mattress with bae bae\n",
    "            Say, say, say\n",
    "            Trippin' off dyke, and my name strike with pay day\n",
    "            Say, say, say\n",
    "            Flippin' blue lighting, tightening, strapped with AK\n",
    "            Say, say, say\n",
    "            OG one, told me one, show me one, eight ways\n",
    "            How to segue\n",
    "            Pussy, power, profit and headache\n",
    "            I reminisce my life innocence\n",
    "            Or life innocent\n",
    "            Or life intimate, with fame\n",
    "            Like limo tint\n",
    "            With light women, dark women in it\n",
    "            Aw Kenny, good game\n",
    "            She wanna hang with a Starboy\n",
    "            The sun and the moon and star, boy\n",
    "            Astronomer, anonymous\n",
    "            I line 'em up, grind 'em up, these nine of us\n",
    "            And five of us have probably fucked\n",
    "            She mollied up, I tallied up all the parts, boy\n",
    "            Twenty legs, arms, head (head)\n",
    "            Head, head, more head (head)\n",
    "            Oh God bless the dead (yeah)\n",
    "            I'm livin' life, high off life\n",
    "            I wear my chokes off to bed\n",
    "            I'm the greatest nigga, why you so scared to say it?\n",
    "            I wanna rock, I wanna rock, I wanna cop more land\n",
    "            I never stop\n",
    "            I wanna quick advance on a bill if it ain't one\n",
    "            Break everything, I'm a hustler, came from\"\"\"]"
   ]
  },
  {
   "cell_type": "code",
   "execution_count": 20,
   "metadata": {},
   "outputs": [
    {
     "data": {
      "text/plain": [
       "array(['hiphop'], dtype='<U6')"
      ]
     },
     "execution_count": 20,
     "metadata": {},
     "output_type": "execute_result"
    }
   ],
   "source": [
    "text_classifier.predict(kendrick)"
   ]
  },
  {
   "cell_type": "markdown",
   "metadata": {},
   "source": [
    "Al parecer no clasifica las canciones de manera correcta, se verificarán las métricas de este."
   ]
  },
  {
   "cell_type": "code",
   "execution_count": 21,
   "metadata": {},
   "outputs": [],
   "source": [
    "from sklearn.metrics import classification_report\n",
    "from collections import defaultdict\n",
    "\n",
    "def cr_to_df(y_true,y_pred, avg_measures=False):\n",
    "    \n",
    "    \"\"\"\n",
    "    Función que retorna un Dataframe de pandas a partir de un classification report de la librería sklearn, módulo metrics\n",
    "    \"\"\"\n",
    "    \n",
    "    cr = classification_report(y_true, y_pred)\n",
    "    tmp = list()\n",
    "    for row in cr.split(\"\\n\"):\n",
    "        parsed_row = [x for x in row.split(\"  \") if len(x) > 0]\n",
    "        if len(parsed_row) > 0:\n",
    "            tmp.append(parsed_row)\n",
    "\n",
    "    measures = tmp[0]\n",
    "\n",
    "    D_class_data = defaultdict(dict)\n",
    "    for row in tmp[1:]:\n",
    "        class_label = row[0]\n",
    "        for j, m in enumerate(measures):\n",
    "            D_class_data[class_label][m.strip()] = float(row[j + 1].strip())\n",
    "            \n",
    "    tmp_df = pd.DataFrame(D_class_data).T\n",
    "    columnsTitles = ['precision', 'recall', 'f1-score', 'support']\n",
    "    tmp_df = tmp_df.reindex(columns=columnsTitles)\n",
    "    \n",
    "    if avg_measures is False:\n",
    "        tmp_df = tmp_df.drop([' micro avg', ' macro avg','weighted avg'])\n",
    "    \n",
    "    return tmp_df"
   ]
  },
  {
   "cell_type": "code",
   "execution_count": 22,
   "metadata": {},
   "outputs": [
    {
     "ename": "IndexError",
     "evalue": "list index out of range",
     "output_type": "error",
     "traceback": [
      "\u001b[1;31m---------------------------------------------------------------------------\u001b[0m",
      "\u001b[1;31mIndexError\u001b[0m                                Traceback (most recent call last)",
      "\u001b[1;32m<ipython-input-22-ed0a1cff2804>\u001b[0m in \u001b[0;36m<module>\u001b[1;34m\u001b[0m\n\u001b[1;32m----> 1\u001b[1;33m \u001b[0mmetricas\u001b[0m \u001b[1;33m=\u001b[0m \u001b[0mcr_to_df\u001b[0m\u001b[1;33m(\u001b[0m\u001b[0my_test\u001b[0m\u001b[1;33m,\u001b[0m \u001b[0my_hat\u001b[0m\u001b[1;33m)\u001b[0m\u001b[1;33m\u001b[0m\u001b[1;33m\u001b[0m\u001b[0m\n\u001b[0m\u001b[0;32m      2\u001b[0m \u001b[0mdisplay\u001b[0m \u001b[1;33m(\u001b[0m\u001b[0mmetricas\u001b[0m\u001b[1;33m)\u001b[0m\u001b[1;33m\u001b[0m\u001b[1;33m\u001b[0m\u001b[0m\n",
      "\u001b[1;32m<ipython-input-21-f27f8baaf0eb>\u001b[0m in \u001b[0;36mcr_to_df\u001b[1;34m(y_true, y_pred, avg_measures)\u001b[0m\n\u001b[0;32m     21\u001b[0m         \u001b[0mclass_label\u001b[0m \u001b[1;33m=\u001b[0m \u001b[0mrow\u001b[0m\u001b[1;33m[\u001b[0m\u001b[1;36m0\u001b[0m\u001b[1;33m]\u001b[0m\u001b[1;33m\u001b[0m\u001b[1;33m\u001b[0m\u001b[0m\n\u001b[0;32m     22\u001b[0m         \u001b[1;32mfor\u001b[0m \u001b[0mj\u001b[0m\u001b[1;33m,\u001b[0m \u001b[0mm\u001b[0m \u001b[1;32min\u001b[0m \u001b[0menumerate\u001b[0m\u001b[1;33m(\u001b[0m\u001b[0mmeasures\u001b[0m\u001b[1;33m)\u001b[0m\u001b[1;33m:\u001b[0m\u001b[1;33m\u001b[0m\u001b[1;33m\u001b[0m\u001b[0m\n\u001b[1;32m---> 23\u001b[1;33m             \u001b[0mD_class_data\u001b[0m\u001b[1;33m[\u001b[0m\u001b[0mclass_label\u001b[0m\u001b[1;33m]\u001b[0m\u001b[1;33m[\u001b[0m\u001b[0mm\u001b[0m\u001b[1;33m.\u001b[0m\u001b[0mstrip\u001b[0m\u001b[1;33m(\u001b[0m\u001b[1;33m)\u001b[0m\u001b[1;33m]\u001b[0m \u001b[1;33m=\u001b[0m \u001b[0mfloat\u001b[0m\u001b[1;33m(\u001b[0m\u001b[0mrow\u001b[0m\u001b[1;33m[\u001b[0m\u001b[0mj\u001b[0m \u001b[1;33m+\u001b[0m \u001b[1;36m1\u001b[0m\u001b[1;33m]\u001b[0m\u001b[1;33m.\u001b[0m\u001b[0mstrip\u001b[0m\u001b[1;33m(\u001b[0m\u001b[1;33m)\u001b[0m\u001b[1;33m)\u001b[0m\u001b[1;33m\u001b[0m\u001b[1;33m\u001b[0m\u001b[0m\n\u001b[0m\u001b[0;32m     24\u001b[0m \u001b[1;33m\u001b[0m\u001b[0m\n\u001b[0;32m     25\u001b[0m     \u001b[0mtmp_df\u001b[0m \u001b[1;33m=\u001b[0m \u001b[0mpd\u001b[0m\u001b[1;33m.\u001b[0m\u001b[0mDataFrame\u001b[0m\u001b[1;33m(\u001b[0m\u001b[0mD_class_data\u001b[0m\u001b[1;33m)\u001b[0m\u001b[1;33m.\u001b[0m\u001b[0mT\u001b[0m\u001b[1;33m\u001b[0m\u001b[1;33m\u001b[0m\u001b[0m\n",
      "\u001b[1;31mIndexError\u001b[0m: list index out of range"
     ]
    }
   ],
   "source": [
    "metricas = cr_to_df(y_test, y_hat)\n",
    "display (metricas)"
   ]
  },
  {
   "cell_type": "code",
   "execution_count": null,
   "metadata": {},
   "outputs": [],
   "source": [
    "plt.figure(figsize=(10,15))\n",
    "sns.set(style=\"darkgrid\")\n",
    "\n",
    "for index, (colname, serie) in enumerate (metricas.iteritems()):\n",
    "    plt.subplot(4,1,index+1)\n",
    "    sc = sns.scatterplot(x = metricas[colname].index, y=metricas[colname].values, \n",
    "                     palette='dodgerblue', s=50)\n",
    "    for a,b in zip(metricas[colname].index,metricas[colname].values):\n",
    "        plt.text(a, b, str(b), fontweight ='bold')\n",
    "    \n",
    "    if colname != 'support':\n",
    "        sc.set(ylim=(0, 1))\n",
    "    else:\n",
    "        sc.set(ylim=(0, None))\n",
    "    plt.title(colname)\n",
    "plt.show()"
   ]
  },
  {
   "cell_type": "markdown",
   "metadata": {},
   "source": [
    "* La métrica `Precision` nos indica que para la categoría `hiphop` existieron mayores casos de identificaciones positivas correctas con un __86%__, mientras que la categoría `pop` fue la que obtuvo peor puntación, con un __66%__.\n",
    "\n",
    "\n",
    "* La métrica `Recall` nos indica que para la categoría `hiphop` un __92%__ de positivos reales se identificó correctamente, mientras que la categoría `pop` solo un __40%__ de positivos reales se identificó correctamente. \n",
    "\n",
    "\n",
    "* En cuanto a la métrica `f1-score`, podemos observar que el modelo tiene un __89%__ de éxito al identificar la categoría `hiphop`, mientras que nuevamente la categoría `pop` obtiene el peor puntaje, con un __50%__ de éxito de identificación.\n",
    "\n",
    "* El soporte indica el número de ocurrencias de cada clase en particular en las respuestas verdaderas, el cual es más alto para la categoría `rock`"
   ]
  },
  {
   "cell_type": "markdown",
   "metadata": {},
   "source": [
    "## Ejercicio 5: Mejora del Modelo\n",
    "* Proponga una estrategia para mejorar el desempeño del modelo en la categoría con peoresmétricas.\n",
    "* Repita los pasos de entrenamiento y reporte de métricas, esta vez incluyendo los nuevos datos suministrados.\n",
    "* Comente sobre el desempeño general de éste."
   ]
  },
  {
   "cell_type": "markdown",
   "metadata": {},
   "source": [
    "En base las métricas previamente analizadas, una mejora para el modelo sería __agregar más datos__, con el objetivo de que el modelo aprenda a clasificar las canciones con una mayor precisión. "
   ]
  },
  {
   "cell_type": "code",
   "execution_count": 24,
   "metadata": {},
   "outputs": [
    {
     "data": {
      "text/plain": [
       "(10804, 4)"
      ]
     },
     "execution_count": 24,
     "metadata": {},
     "output_type": "execute_result"
    }
   ],
   "source": [
    "file_list = glob.glob(os.getcwd() + '/dump_plus_pop/*.csv')\n",
    "append_csv = []\n",
    "for f in file_list:\n",
    "    # abrir en pandas y concatenar\n",
    "    append_csv.append(pd.read_csv(f, index_col=None, header=0).drop(columns='Unnamed: 0'))\n",
    "# concatenar la lista de dataframes\n",
    "\n",
    "\n",
    "df_lyrics_2 = pd.concat(append_csv)\n",
    "df_lyrics_2.columns = ['Artist', 'Genre', 'Song', 'Lyrics']\n",
    "df_lyrics_2.shape"
   ]
  },
  {
   "cell_type": "code",
   "execution_count": 25,
   "metadata": {
    "scrolled": true
   },
   "outputs": [
    {
     "data": {
      "text/plain": [
       "rock      4140\n",
       "pop       2547\n",
       "hiphop    2535\n",
       "metal     1582\n",
       "Name: Genre, dtype: int64"
      ]
     },
     "execution_count": 25,
     "metadata": {},
     "output_type": "execute_result"
    }
   ],
   "source": [
    "df_lyrics_2['Genre'].value_counts()"
   ]
  },
  {
   "cell_type": "code",
   "execution_count": 26,
   "metadata": {
    "scrolled": true
   },
   "outputs": [
    {
     "data": {
      "text/plain": [
       "rock      4140\n",
       "hiphop    2535\n",
       "metal     1582\n",
       "pop       1232\n",
       "Name: Genre, dtype: int64"
      ]
     },
     "execution_count": 26,
     "metadata": {},
     "output_type": "execute_result"
    }
   ],
   "source": [
    "df_lyrics['Genre'].value_counts()"
   ]
  },
  {
   "cell_type": "code",
   "execution_count": 27,
   "metadata": {},
   "outputs": [],
   "source": [
    "X_train_2, X_test_2, y_train_2, y_test_2 = train_test_split(df_lyrics_2['Lyrics'],\n",
    "                                                  df_lyrics_2['Genre'],\n",
    "                                                  test_size=.40,\n",
    "                                                  random_state=250992)\n",
    "text_classifier_2 = Pipeline(\n",
    "    [\n",
    "        ('vectorizer', CountVectorizer(stop_words='english')),\n",
    "        ('classifier', MultinomialNB())\n",
    "    ]\n",
    ")\n",
    "\n",
    "text_classifier_2.fit(X_train_2, y_train_2)\n",
    "y_hat_2 = text_classifier.predict(X_test_2)"
   ]
  },
  {
   "cell_type": "code",
   "execution_count": 28,
   "metadata": {},
   "outputs": [
    {
     "data": {
      "text/plain": [
       "['Brody Dalle - Underworld',\n",
       " 'Gorguts - Forgotten Arrows',\n",
       " 'NSYNC - Bye Bye Bye',\n",
       " 'Ludacris - Move B*tch',\n",
       " 'IDLES - Mother',\n",
       " 'Banks - Drowning']"
      ]
     },
     "execution_count": 28,
     "metadata": {},
     "output_type": "execute_result"
    }
   ],
   "source": [
    "canciones"
   ]
  },
  {
   "cell_type": "code",
   "execution_count": 29,
   "metadata": {},
   "outputs": [
    {
     "data": {
      "text/plain": [
       "array(['rock', 'metal', 'rock', 'hiphop', 'metal', 'rock'], dtype='<U6')"
      ]
     },
     "execution_count": 29,
     "metadata": {},
     "output_type": "execute_result"
    }
   ],
   "source": [
    "text_classifier.predict(text_to_predict) #modelo con menos datos"
   ]
  },
  {
   "cell_type": "code",
   "execution_count": 30,
   "metadata": {},
   "outputs": [
    {
     "data": {
      "text/plain": [
       "array(['rock', 'metal', 'pop', 'pop', 'metal', 'pop'], dtype='<U6')"
      ]
     },
     "execution_count": 30,
     "metadata": {},
     "output_type": "execute_result"
    }
   ],
   "source": [
    "text_classifier_2.predict(text_to_predict) #modelo entrenado con más datos"
   ]
  },
  {
   "cell_type": "code",
   "execution_count": 31,
   "metadata": {},
   "outputs": [],
   "source": [
    "mj = [\"\"\"Do you remember the time\n",
    "When we fell in love\n",
    "Do you remember the time\n",
    "When we first met\n",
    "Do you remember the time\n",
    "When we fell in love\n",
    "Do you remember the time\n",
    "Remember the times\n",
    "Ooh\n",
    "Remember the times\n",
    "Do you remember girl\n",
    "Remember the times\n",
    "On the phone you and me\n",
    "Remember the times\n",
    "Till dawn, two or three\n",
    "What about us girl\"\"\"]"
   ]
  },
  {
   "cell_type": "code",
   "execution_count": 32,
   "metadata": {},
   "outputs": [
    {
     "data": {
      "text/plain": [
       "array(['rock'], dtype='<U6')"
      ]
     },
     "execution_count": 32,
     "metadata": {},
     "output_type": "execute_result"
    }
   ],
   "source": [
    "text_classifier.predict(mj)"
   ]
  },
  {
   "cell_type": "code",
   "execution_count": 33,
   "metadata": {},
   "outputs": [
    {
     "data": {
      "text/plain": [
       "array(['pop'], dtype='<U6')"
      ]
     },
     "execution_count": 33,
     "metadata": {},
     "output_type": "execute_result"
    }
   ],
   "source": [
    "text_classifier_2.predict(mj)"
   ]
  },
  {
   "cell_type": "markdown",
   "metadata": {},
   "source": [
    "Al analizar la diferencias entre los resultados, podriamos decir que _a criterio humano_ existe una mejora, ya que clasifica correctamente la canción de __NSYNC - Bye Bye Bye__ y __Remember the Time - Michael Jackson__ en comparación al primer modelo, para verificar si esta mejora existe a nivel estadístico, se compará con las métricas `precision`, `recall`, `f1-score` y `support`."
   ]
  },
  {
   "cell_type": "code",
   "execution_count": 37,
   "metadata": {},
   "outputs": [
    {
     "ename": "IndexError",
     "evalue": "list index out of range",
     "output_type": "error",
     "traceback": [
      "\u001b[1;31m---------------------------------------------------------------------------\u001b[0m",
      "\u001b[1;31mIndexError\u001b[0m                                Traceback (most recent call last)",
      "\u001b[1;32m<ipython-input-37-fe7d3d6555a2>\u001b[0m in \u001b[0;36m<module>\u001b[1;34m\u001b[0m\n\u001b[1;32m----> 1\u001b[1;33m \u001b[0mmetricas_2\u001b[0m \u001b[1;33m=\u001b[0m \u001b[0mcr_to_df\u001b[0m\u001b[1;33m(\u001b[0m\u001b[0my_test_2\u001b[0m\u001b[1;33m,\u001b[0m \u001b[0my_hat_2\u001b[0m\u001b[1;33m)\u001b[0m\u001b[1;33m\u001b[0m\u001b[1;33m\u001b[0m\u001b[0m\n\u001b[0m\u001b[0;32m      2\u001b[0m \u001b[0mprint\u001b[0m\u001b[1;33m(\u001b[0m\u001b[1;34m\"Modelo 1\"\u001b[0m\u001b[1;33m)\u001b[0m\u001b[1;33m\u001b[0m\u001b[1;33m\u001b[0m\u001b[0m\n\u001b[0;32m      3\u001b[0m \u001b[0mdisplay\u001b[0m \u001b[1;33m(\u001b[0m\u001b[0mmetricas\u001b[0m\u001b[1;33m)\u001b[0m\u001b[1;33m\u001b[0m\u001b[1;33m\u001b[0m\u001b[0m\n\u001b[0;32m      4\u001b[0m \u001b[0mprint\u001b[0m\u001b[1;33m(\u001b[0m\u001b[1;34m\"Modelo 2\"\u001b[0m\u001b[1;33m)\u001b[0m\u001b[1;33m\u001b[0m\u001b[1;33m\u001b[0m\u001b[0m\n\u001b[0;32m      5\u001b[0m \u001b[0mdisplay\u001b[0m \u001b[1;33m(\u001b[0m\u001b[0mmetricas_2\u001b[0m\u001b[1;33m)\u001b[0m\u001b[1;33m\u001b[0m\u001b[1;33m\u001b[0m\u001b[0m\n",
      "\u001b[1;32m<ipython-input-21-f27f8baaf0eb>\u001b[0m in \u001b[0;36mcr_to_df\u001b[1;34m(y_true, y_pred, avg_measures)\u001b[0m\n\u001b[0;32m     21\u001b[0m         \u001b[0mclass_label\u001b[0m \u001b[1;33m=\u001b[0m \u001b[0mrow\u001b[0m\u001b[1;33m[\u001b[0m\u001b[1;36m0\u001b[0m\u001b[1;33m]\u001b[0m\u001b[1;33m\u001b[0m\u001b[1;33m\u001b[0m\u001b[0m\n\u001b[0;32m     22\u001b[0m         \u001b[1;32mfor\u001b[0m \u001b[0mj\u001b[0m\u001b[1;33m,\u001b[0m \u001b[0mm\u001b[0m \u001b[1;32min\u001b[0m \u001b[0menumerate\u001b[0m\u001b[1;33m(\u001b[0m\u001b[0mmeasures\u001b[0m\u001b[1;33m)\u001b[0m\u001b[1;33m:\u001b[0m\u001b[1;33m\u001b[0m\u001b[1;33m\u001b[0m\u001b[0m\n\u001b[1;32m---> 23\u001b[1;33m             \u001b[0mD_class_data\u001b[0m\u001b[1;33m[\u001b[0m\u001b[0mclass_label\u001b[0m\u001b[1;33m]\u001b[0m\u001b[1;33m[\u001b[0m\u001b[0mm\u001b[0m\u001b[1;33m.\u001b[0m\u001b[0mstrip\u001b[0m\u001b[1;33m(\u001b[0m\u001b[1;33m)\u001b[0m\u001b[1;33m]\u001b[0m \u001b[1;33m=\u001b[0m \u001b[0mfloat\u001b[0m\u001b[1;33m(\u001b[0m\u001b[0mrow\u001b[0m\u001b[1;33m[\u001b[0m\u001b[0mj\u001b[0m \u001b[1;33m+\u001b[0m \u001b[1;36m1\u001b[0m\u001b[1;33m]\u001b[0m\u001b[1;33m.\u001b[0m\u001b[0mstrip\u001b[0m\u001b[1;33m(\u001b[0m\u001b[1;33m)\u001b[0m\u001b[1;33m)\u001b[0m\u001b[1;33m\u001b[0m\u001b[1;33m\u001b[0m\u001b[0m\n\u001b[0m\u001b[0;32m     24\u001b[0m \u001b[1;33m\u001b[0m\u001b[0m\n\u001b[0;32m     25\u001b[0m     \u001b[0mtmp_df\u001b[0m \u001b[1;33m=\u001b[0m \u001b[0mpd\u001b[0m\u001b[1;33m.\u001b[0m\u001b[0mDataFrame\u001b[0m\u001b[1;33m(\u001b[0m\u001b[0mD_class_data\u001b[0m\u001b[1;33m)\u001b[0m\u001b[1;33m.\u001b[0m\u001b[0mT\u001b[0m\u001b[1;33m\u001b[0m\u001b[1;33m\u001b[0m\u001b[0m\n",
      "\u001b[1;31mIndexError\u001b[0m: list index out of range"
     ]
    }
   ],
   "source": [
    "metricas_2 = cr_to_df(y_test_2, y_hat_2)\n",
    "print(\"Modelo 1\")\n",
    "display (metricas)\n",
    "print(\"Modelo 2\")\n",
    "display (metricas_2)"
   ]
  },
  {
   "cell_type": "code",
   "execution_count": 34,
   "metadata": {
    "scrolled": true
   },
   "outputs": [
    {
     "ename": "NameError",
     "evalue": "name 'metricas_2' is not defined",
     "output_type": "error",
     "traceback": [
      "\u001b[1;31m---------------------------------------------------------------------------\u001b[0m",
      "\u001b[1;31mNameError\u001b[0m                                 Traceback (most recent call last)",
      "\u001b[1;32m<ipython-input-34-58eaa51cca6d>\u001b[0m in \u001b[0;36m<module>\u001b[1;34m\u001b[0m\n\u001b[0;32m      2\u001b[0m \u001b[0msns\u001b[0m\u001b[1;33m.\u001b[0m\u001b[0mset\u001b[0m\u001b[1;33m(\u001b[0m\u001b[0mstyle\u001b[0m\u001b[1;33m=\u001b[0m\u001b[1;34m\"darkgrid\"\u001b[0m\u001b[1;33m)\u001b[0m\u001b[1;33m\u001b[0m\u001b[1;33m\u001b[0m\u001b[0m\n\u001b[0;32m      3\u001b[0m \u001b[1;33m\u001b[0m\u001b[0m\n\u001b[1;32m----> 4\u001b[1;33m \u001b[1;32mfor\u001b[0m \u001b[0mindex\u001b[0m\u001b[1;33m,\u001b[0m \u001b[1;33m(\u001b[0m\u001b[0mcolname\u001b[0m\u001b[1;33m,\u001b[0m \u001b[0mserie\u001b[0m\u001b[1;33m)\u001b[0m \u001b[1;32min\u001b[0m \u001b[0menumerate\u001b[0m \u001b[1;33m(\u001b[0m\u001b[0mmetricas_2\u001b[0m\u001b[1;33m.\u001b[0m\u001b[0miteritems\u001b[0m\u001b[1;33m(\u001b[0m\u001b[1;33m)\u001b[0m\u001b[1;33m)\u001b[0m\u001b[1;33m:\u001b[0m\u001b[1;33m\u001b[0m\u001b[1;33m\u001b[0m\u001b[0m\n\u001b[0m\u001b[0;32m      5\u001b[0m     \u001b[0mplt\u001b[0m\u001b[1;33m.\u001b[0m\u001b[0msubplot\u001b[0m\u001b[1;33m(\u001b[0m\u001b[1;36m4\u001b[0m\u001b[1;33m,\u001b[0m\u001b[1;36m1\u001b[0m\u001b[1;33m,\u001b[0m\u001b[0mindex\u001b[0m\u001b[1;33m+\u001b[0m\u001b[1;36m1\u001b[0m\u001b[1;33m)\u001b[0m\u001b[1;33m\u001b[0m\u001b[1;33m\u001b[0m\u001b[0m\n\u001b[0;32m      6\u001b[0m     sc = sns.scatterplot(x = metricas_2[colname].index, y=metricas_2[colname].values, \n",
      "\u001b[1;31mNameError\u001b[0m: name 'metricas_2' is not defined"
     ]
    },
    {
     "data": {
      "text/plain": [
       "<Figure size 720x1080 with 0 Axes>"
      ]
     },
     "metadata": {},
     "output_type": "display_data"
    }
   ],
   "source": [
    "plt.figure(figsize=(10,15))\n",
    "sns.set(style=\"darkgrid\")\n",
    "\n",
    "for index, (colname, serie) in enumerate (metricas_2.iteritems()):\n",
    "    plt.subplot(4,1,index+1)\n",
    "    sc = sns.scatterplot(x = metricas_2[colname].index, y=metricas_2[colname].values, \n",
    "                     palette='dodgerblue', s=50)\n",
    "    for a,b in zip(metricas_2[colname].index,metricas_2[colname].values):\n",
    "        plt.text(a, b, str(b), fontweight ='bold')\n",
    "    \n",
    "    if colname != 'support':\n",
    "        sc.set(ylim=(0, 1))\n",
    "    else:\n",
    "        sc.set(ylim=(0, None))\n",
    "    plt.title(colname)\n",
    "plt.show()"
   ]
  },
  {
   "cell_type": "markdown",
   "metadata": {},
   "source": [
    "#### Al comparar las métricas obtenidas por el nuevo modelo entrenado vs el anterior, podemos realizar las siguientes observaciones:\n",
    "* `Precision`: \n",
    "    - La categoría `hiphop` sigue obtienendo mayores casos de identificaciones positivas correctas, pero su rendimiento se vio afectado con la pérdida de un __3%__, cayendo de un __86%__ a un __83%__. \n",
    "    - La categoría `pop` sigue obteniendo la peor puntación con un __68%__, incrementando sólo un __2%__ la cantidad de casos identificados  correctamente positivos.     \n",
    "    - En cuanto a las categorías `metal` y `rock`, también se vieron afectadas pro el nuevo modelo, perdiendo un __2%__ y un __3%__ respectivamente.\n",
    "\n",
    "\n",
    "* `Recall`:\n",
    "    - Las principales diferencias respecto a esta métrica son para las categorías de `pop` y `rock`.\n",
    "    - El entrenamiento del nuevo modelo con más datos logró que la categoría `pop`, aumentara su tasa de  positivos reales se identificados correctamente de un __40%__ a un __%64__, pero por otra parte el desempeño respecto a esta métrica para la categoría `rock` disminuyó en un __10%__.\n",
    "\n",
    "* `f1-score`:\n",
    "    - Al igual que para la métrica `Recall`podemos observar que los principales cambios fueron para las categorías de `pop` y `rock`.\n",
    "    - El nuevo modelo presenta una mejora de un __16%__ de éxito al identificar la categoría `pop`, pero empeora en un __6%__ de éxito de identificación de la categoría `rock`.\n",
    "\n",
    "* `support`:\n",
    "    - La categoría con más soport sigue siendo `rock`, pero se puede apreciar un incremento notable para la categoría `pop`\n",
    "    \n",
    "En general, se puede apreciar que el nuevo modelo obtiene mejores métricas que el anterior, y que los principales cambios fueron para las categorías `pop` y `rock`, existiendo un intercambio entre las canciones que el modelo anteriormente clasificaba como `rock` y pertenecian al género `pop`."
   ]
  }
 ],
 "metadata": {
  "kernelspec": {
   "display_name": "Python 3",
   "language": "python",
   "name": "python3"
  },
  "language_info": {
   "codemirror_mode": {
    "name": "ipython",
    "version": 3
   },
   "file_extension": ".py",
   "mimetype": "text/x-python",
   "name": "python",
   "nbconvert_exporter": "python",
   "pygments_lexer": "ipython3",
   "version": "3.7.4"
  }
 },
 "nbformat": 4,
 "nbformat_minor": 2
}
